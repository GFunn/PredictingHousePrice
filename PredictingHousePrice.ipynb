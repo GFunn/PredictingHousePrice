{
 "cells": [
  {
   "cell_type": "markdown",
   "metadata": {},
   "source": [
    "# 读入数据"
   ]
  },
  {
   "cell_type": "code",
   "execution_count": 1,
   "metadata": {
    "collapsed": true
   },
   "outputs": [],
   "source": [
    "import pandas as pd\n",
    "import numpy as np\n",
    "import matplotlib.pyplot as plt\n",
    "import seaborn as sns\n",
    "from sklearn.linear_model import LinearRegression\n",
    "from sklearn.model_selection import cross_val_score, KFold\n",
    "\n",
    "pd.options.display.max_rows = 999\n",
    "pd.set_option('display.max_columns', 999)"
   ]
  },
  {
   "cell_type": "code",
   "execution_count": 2,
   "metadata": {},
   "outputs": [
    {
     "data": {
      "text/plain": [
       "(1460, 82)"
      ]
     },
     "execution_count": 2,
     "metadata": {},
     "output_type": "execute_result"
    }
   ],
   "source": [
    "data = pd.read_csv('AmesHousing.txt', sep='\\t')\n",
    "\n",
    "train_raw = data.iloc[:1460]\n",
    "test_raw = data.iloc[1460:]\n",
    "\n",
    "train_subset = train_raw\n",
    "train_subset.shape"
   ]
  },
  {
   "cell_type": "markdown",
   "metadata": {},
   "source": [
    "# 主方程部分："
   ]
  },
  {
   "cell_type": "code",
   "execution_count": 70,
   "metadata": {
    "collapsed": true
   },
   "outputs": [],
   "source": [
    "def transform_features(df):\n",
    "    \n",
    "    ### Dropping null values ###\n",
    "    \n",
    "    null_thd = len(df) / 2\n",
    "    null_total = df.isnull().sum()\n",
    "    for col in null_total.index:\n",
    "        if null_total[col] > null_thd:\n",
    "            df = df.drop(col, axis=1)\n",
    "    \n",
    "    \n",
    "    ### Processing object columns ### \n",
    "    \n",
    "    txt_train = df.select_dtypes(include=['object'])\n",
    "            \n",
    "    \n",
    "    ### Processing numerical columns ###\n",
    "    ## Variance values processing\n",
    "    num_train = df.select_dtypes(include=['int', 'float'])\n",
    "    num_var = num_train / num_train.max()\n",
    "    var_series = num_var.var().sort_values()\n",
    "    \n",
    "    for col in var_series.index:\n",
    "        if var_series[col] < 0.015:\n",
    "            num_train = num_train.drop(col, axis=1)\n",
    "    \n",
    "    low_corr_cols = ['Order', 'Mo Sold', 'Bsmt Half Bath', 'MS SubClass','Bsmt Unf SF', 'PID']\n",
    "    num_train = num_train.drop(low_corr_cols, axis=1)\n",
    "    try:\n",
    "        price = num_train[['SalePrice']]\n",
    "    except:\n",
    "        price = df[['SalePrice']]\n",
    "        num_train = pd.concat([num_train, price], axis=1)\n",
    "\n",
    "    return txt_train, num_train"
   ]
  },
  {
   "cell_type": "code",
   "execution_count": 71,
   "metadata": {
    "collapsed": true
   },
   "outputs": [],
   "source": [
    "def select_features(df):\n",
    "    \n",
    "    txt_train, num_train = transform_features(df)\n",
    "\n",
    "    \n",
    "    ### Tune your model here ###\n",
    "    \n",
    "    txt_train = df.select_dtypes(include=['object'])\n",
    "    \n",
    "    txt_useless = ['Sale Type', 'Sale Condition']\n",
    "    txt_train = txt_train.drop(txt_useless, axis=1)\n",
    "    \n",
    "    for col in txt_train.columns:\n",
    "        txt_train[col] = txt_train[col].astype('category')\n",
    "        col_dummies = pd.get_dummies(txt_train[col], prefix=col)\n",
    "        txt_train = pd.concat([txt_train, col_dummies], axis=1)\n",
    "        del txt_train[col]\n",
    "\n",
    "    \n",
    "    num_cat = []\n",
    "    for col in num_train.columns:\n",
    "        val_counts = len(num_train[col].value_counts())\n",
    "        if val_counts < 15:\n",
    "            num_cat.append(col)\n",
    "    \n",
    "    for col in num_cat:\n",
    "        num_train[col] = num_train[col].astype('category')\n",
    "        col_dummies = pd.get_dummies(num_train[col], prefix=col)\n",
    "        num_train = pd.concat([num_train, col_dummies], axis=1)\n",
    "        del num_train[col]\n",
    "\n",
    "    num_train = num_train.fillna(num_train.mean())\n",
    "\n",
    "    ### Turn your model here ###\n",
    "    \n",
    "    \n",
    "    train_clean = pd.concat([txt_train, num_train], axis=1)\n",
    "    return train_clean"
   ]
  },
  {
   "cell_type": "code",
   "execution_count": 72,
   "metadata": {},
   "outputs": [
    {
     "name": "stdout",
     "output_type": "stream",
     "text": [
      "***************************\n",
      "RMSEs for cross check is: [135.48797561725394, 140.88906580761858, 141.7382703887271, 136.86448079637049, 138.74976477673684]\n",
      "***************************\n",
      "Overall average RMSE from cross check is: 138.745911477\n"
     ]
    }
   ],
   "source": [
    "def train_and_test(df):\n",
    "    data_sets = select_features(df)\n",
    "\n",
    "    train_set = data_sets.drop('SalePrice', axis=1)\n",
    "    target_set = data_sets[['SalePrice']]\n",
    "    \n",
    "    kf = KFold(5, shuffle=True, random_state=1)\n",
    "    model = LinearRegression()\n",
    "    \n",
    "    mses = cross_val_score(model, train_set, target_set,\n",
    "                           scoring='neg_mean_absolute_error', cv=kf)\n",
    "    rmses = [np.sqrt(np.abs(mse)) for mse in mses]\n",
    "    avg_rmse = sum(rmses)/len(rmses)\n",
    "    return rmses, avg_rmse\n",
    "\n",
    "cross_check_rmse, cross_avg_rmse = train_and_test(data)\n",
    "print('***************************')\n",
    "print('RMSEs for cross check is:', cross_check_rmse)\n",
    "print('***************************')\n",
    "print('Overall average RMSE from cross check is:', cross_avg_rmse)"
   ]
  },
  {
   "cell_type": "markdown",
   "metadata": {},
   "source": [
    "### 对数据进行初步处理后结果如上方所示"
   ]
  },
  {
   "cell_type": "markdown",
   "metadata": {},
   "source": [
    "## 下一步针对剩下的feature进行筛选，尝试进一步减小误差"
   ]
  },
  {
   "cell_type": "code",
   "execution_count": 35,
   "metadata": {
    "collapsed": true
   },
   "outputs": [],
   "source": [
    "txt_df, num_df = transform_features(data)\n",
    "num_df = num_df.fillna(num_df.mean())"
   ]
  },
  {
   "cell_type": "markdown",
   "metadata": {},
   "source": [
    "### 数字部分："
   ]
  },
  {
   "cell_type": "code",
   "execution_count": 36,
   "metadata": {},
   "outputs": [
    {
     "name": "stdout",
     "output_type": "stream",
     "text": [
      "(2930, 16) \n",
      "\n",
      "Index(['Order', 'PID', 'MS SubClass', 'Overall Qual', 'Overall Cond',\n",
      "       'Bsmt Unf SF', '2nd Flr SF', 'Bsmt Full Bath', 'Bsmt Half Bath',\n",
      "       'Full Bath', 'Half Bath', 'Fireplaces', 'Garage Cars', 'Garage Area',\n",
      "       'Mo Sold', 'SalePrice'],\n",
      "      dtype='object')\n"
     ]
    }
   ],
   "source": [
    "print(num_df.shape, '\\n')\n",
    "print(num_df.columns)"
   ]
  },
  {
   "cell_type": "code",
   "execution_count": 37,
   "metadata": {},
   "outputs": [
    {
     "name": "stdout",
     "output_type": "stream",
     "text": [
      "Order             0.031408\n",
      "Mo Sold           0.035259\n",
      "Bsmt Half Bath    0.035815\n",
      "MS SubClass       0.085092\n",
      "Overall Cond      0.101697\n",
      "Bsmt Unf SF       0.182805\n",
      "PID               0.246521\n",
      "2nd Flr SF        0.269373\n",
      "Bsmt Full Bath    0.275894\n",
      "Half Bath         0.285056\n",
      "Fireplaces        0.474558\n",
      "Full Bath         0.545604\n",
      "Garage Area       0.640385\n",
      "Garage Cars       0.647861\n",
      "Overall Qual      0.799262\n",
      "SalePrice         1.000000\n",
      "Name: SalePrice, dtype: float64\n"
     ]
    }
   ],
   "source": [
    "corrmat = num_df.corr()\n",
    "sorted_corrs = corrmat['SalePrice'].abs().sort_values()\n",
    "print(sorted_corrs)"
   ]
  },
  {
   "cell_type": "code",
   "execution_count": 38,
   "metadata": {},
   "outputs": [
    {
     "data": {
      "text/plain": [
       "<matplotlib.axes._subplots.AxesSubplot at 0x13d0a5f28>"
      ]
     },
     "execution_count": 38,
     "metadata": {},
     "output_type": "execute_result"
    },
    {
     "data": {
      "image/png": "[encoded data removed]",
      "text/plain": [
       "<matplotlib.figure.Figure at 0x13d12f208>"
      ]
     },
     "metadata": {},
     "output_type": "display_data"
    }
   ],
   "source": [
    "%matplotlib inline\n",
    "sns.heatmap(corrmat)"
   ]
  },
  {
   "cell_type": "code",
   "execution_count": 54,
   "metadata": {},
   "outputs": [
    {
     "name": "stdout",
     "output_type": "stream",
     "text": [
      "Index(['Order', 'Mo Sold', 'Bsmt Half Bath', 'MS SubClass', 'Overall Cond',\n",
      "       'Bsmt Unf SF', 'PID', '2nd Flr SF', 'Bsmt Full Bath', 'Half Bath'],\n",
      "      dtype='object')\n"
     ]
    }
   ],
   "source": [
    "low_corr_cols = sorted_corrs[sorted_corrs < 0.3].index\n",
    "num_clean = num_df.drop(low_corr_cols, axis=1)\n",
    "print(low_corr_cols)"
   ]
  },
  {
   "cell_type": "markdown",
   "metadata": {
    "collapsed": true
   },
   "source": [
    "### 文字部分："
   ]
  },
  {
   "cell_type": "code",
   "execution_count": 40,
   "metadata": {},
   "outputs": [
    {
     "name": "stdout",
     "output_type": "stream",
     "text": [
      "(2930, 39) \n",
      "\n",
      "Index(['MS Zoning', 'Street', 'Lot Shape', 'Land Contour', 'Utilities',\n",
      "       'Lot Config', 'Land Slope', 'Neighborhood', 'Condition 1',\n",
      "       'Condition 2', 'Bldg Type', 'House Style', 'Roof Style', 'Roof Matl',\n",
      "       'Exterior 1st', 'Exterior 2nd', 'Mas Vnr Type', 'Exter Qual',\n",
      "       'Exter Cond', 'Foundation', 'Bsmt Qual', 'Bsmt Cond', 'Bsmt Exposure',\n",
      "       'BsmtFin Type 1', 'BsmtFin Type 2', 'Heating', 'Heating QC',\n",
      "       'Central Air', 'Electrical', 'Kitchen Qual', 'Functional',\n",
      "       'Fireplace Qu', 'Garage Type', 'Garage Finish', 'Garage Qual',\n",
      "       'Garage Cond', 'Paved Drive', 'Sale Type', 'Sale Condition'],\n",
      "      dtype='object')\n"
     ]
    }
   ],
   "source": [
    "print(txt_df.shape, '\\n')\n",
    "print(txt_df.columns)"
   ]
  },
  {
   "cell_type": "code",
   "execution_count": 46,
   "metadata": {},
   "outputs": [
    {
     "name": "stdout",
     "output_type": "stream",
     "text": [
      "MS Zoning :\t 7\n",
      "Street :\t 2\n",
      "Lot Shape :\t 4\n",
      "Land Contour :\t 4\n",
      "Utilities :\t 3\n",
      "Lot Config :\t 5\n",
      "Land Slope :\t 3\n",
      "Neighborhood :\t 28\n",
      "Condition 1 :\t 9\n",
      "Condition 2 :\t 8\n",
      "Bldg Type :\t 5\n",
      "House Style :\t 8\n",
      "Roof Style :\t 6\n",
      "Roof Matl :\t 8\n",
      "Exterior 1st :\t 16\n",
      "Exterior 2nd :\t 17\n",
      "Mas Vnr Type :\t 5\n",
      "Exter Qual :\t 4\n",
      "Exter Cond :\t 5\n",
      "Foundation :\t 6\n",
      "Bsmt Qual :\t 5\n",
      "Bsmt Cond :\t 5\n",
      "Bsmt Exposure :\t 4\n",
      "BsmtFin Type 1 :\t 6\n",
      "BsmtFin Type 2 :\t 6\n",
      "Heating :\t 6\n",
      "Heating QC :\t 5\n",
      "Central Air :\t 2\n",
      "Electrical :\t 5\n",
      "Kitchen Qual :\t 5\n",
      "Functional :\t 8\n",
      "Fireplace Qu :\t 5\n",
      "Garage Type :\t 6\n",
      "Garage Finish :\t 3\n",
      "Garage Qual :\t 5\n",
      "Garage Cond :\t 5\n",
      "Paved Drive :\t 3\n",
      "Sale Type :\t 10\n",
      "Sale Condition :\t 6\n"
     ]
    }
   ],
   "source": [
    "for col in txt_df.columns:\n",
    "    val_counts = len(txt_df[col].value_counts())\n",
    "    print(col, ':\\t', val_counts)"
   ]
  },
  {
   "cell_type": "markdown",
   "metadata": {},
   "source": []
  },
  {
   "cell_type": "markdown",
   "metadata": {},
   "source": []
  },
  {
   "cell_type": "markdown",
   "metadata": {},
   "source": [
    "# 实验测试部分："
   ]
  },
  {
   "cell_type": "markdown",
   "metadata": {},
   "source": [
    "### 处理null value"
   ]
  },
  {
   "cell_type": "code",
   "execution_count": 29,
   "metadata": {},
   "outputs": [
    {
     "name": "stdout",
     "output_type": "stream",
     "text": [
      "null门限设置为数据集长度一半： 730.0\n",
      "处理后数据集中null最多的有： 717\n"
     ]
    }
   ],
   "source": [
    "null_thd = len(train_subset) / 2\n",
    "null_total = train_subset.isnull().sum()\n",
    "\n",
    "print('null门限设置为数据集长度一半：', null_thd)\n",
    "\n",
    "for col in null_total.index:\n",
    "    if null_total[col] > null_thd:\n",
    "        train_subset = train_subset.drop(col, axis=1)\n",
    "    \n",
    "print('处理后数据集中null最多的有：', train_subset.isnull().sum().sort_values().max())"
   ]
  },
  {
   "cell_type": "markdown",
   "metadata": {},
   "source": [
    "### 删除数字部分变化率很小的列"
   ]
  },
  {
   "cell_type": "code",
   "execution_count": 30,
   "metadata": {
    "scrolled": false
   },
   "outputs": [
    {
     "name": "stdout",
     "output_type": "stream",
     "text": [
      "SalePrice         0.01624368\n",
      "Overall Cond      0.01650477\n",
      "Total Bsmt SF     0.01784242\n",
      "Gr Liv Area       0.01801363\n",
      "Mas Vnr Area      0.01843943\n",
      "Full Bath         0.01862096\n",
      "Enclosed Porch    0.01897504\n",
      "Bedroom AbvGr     0.01914872\n",
      "1st Flr SF        0.01918180\n",
      "Overall Qual      0.01984168\n",
      "Garage Area       0.02034663\n",
      "Garage Cars       0.02258398\n",
      "Bsmt Full Bath    0.03130948\n",
      "Wood Deck SF      0.03306444\n",
      "Bsmt Unf SF       0.03393995\n",
      "BsmtFin SF 1      0.03760276\n",
      "PID               0.04093864\n",
      "Fireplaces        0.04658948\n",
      "Mo Sold           0.04896651\n",
      "MS SubClass       0.04991815\n",
      "Bsmt Half Bath    0.05308050\n",
      "2nd Flr SF        0.05362407\n",
      "Half Bath         0.06471359\n",
      "Order             0.08339041\n",
      "dtype: object\n"
     ]
    }
   ],
   "source": [
    "num_train = train_subset.select_dtypes(include=['int', 'float'])\n",
    "num_var = num_train / num_train.max()\n",
    "var_series = num_var.var().sort_values()\n",
    "\n",
    "for col in var_series.index:\n",
    "    if var_series[col] < 0.015:\n",
    "        num_train = num_train.drop(col, axis=1)\n",
    "        var_series = var_series.drop(col)\n",
    "print(var_series.apply(lambda x: '%.8f' %x))"
   ]
  },
  {
   "cell_type": "code",
   "execution_count": 44,
   "metadata": {},
   "outputs": [
    {
     "name": "stdout",
     "output_type": "stream",
     "text": [
      "Order\n",
      "1460\n",
      "PID\n",
      "1460\n",
      "MS SubClass\n",
      "15\n",
      "Overall Qual\n",
      "10\n",
      "Overall Cond\n",
      "9\n",
      "Mas Vnr Area\n",
      "304\n",
      "BsmtFin SF 1\n",
      "668\n",
      "Bsmt Unf SF\n",
      "767\n",
      "Total Bsmt SF\n",
      "728\n",
      "1st Flr SF\n",
      "764\n",
      "2nd Flr SF\n",
      "405\n",
      "Gr Liv Area\n",
      "880\n",
      "Bsmt Full Bath\n",
      "4\n",
      "Bsmt Half Bath\n",
      "2\n",
      "Full Bath\n",
      "5\n",
      "Half Bath\n",
      "3\n",
      "Bedroom AbvGr\n",
      "7\n",
      "Fireplaces\n",
      "4\n",
      "Garage Cars\n",
      "6\n",
      "Garage Area\n",
      "442\n",
      "Wood Deck SF\n",
      "272\n",
      "Enclosed Porch\n",
      "132\n",
      "Mo Sold\n",
      "12\n",
      "SalePrice\n",
      "644\n"
     ]
    }
   ],
   "source": [
    "num_test = num_train\n",
    "for col in num_test.columns:\n",
    "    print(col)\n",
    "    val_counts = len(num_test[col].value_counts())\n",
    "    print(val_counts)"
   ]
  },
  {
   "cell_type": "code",
   "execution_count": 31,
   "metadata": {},
   "outputs": [
    {
     "name": "stdout",
     "output_type": "stream",
     "text": [
      "Index(['Overall Cond', 'Mas Vnr Area', 'BsmtFin SF 1', 'Bsmt Unf SF',\n",
      "       'Total Bsmt SF', '1st Flr SF', '2nd Flr SF', 'Gr Liv Area',\n",
      "       'Garage Area', 'Wood Deck SF', 'Enclosed Porch', 'SalePrice',\n",
      "       'Full Bath_0', 'Full Bath_1', 'Full Bath_2', 'Full Bath_3',\n",
      "       'Full Bath_4', 'Bedroom AbvGr_0', 'Bedroom AbvGr_1', 'Bedroom AbvGr_2',\n",
      "       'Bedroom AbvGr_3', 'Bedroom AbvGr_4', 'Bedroom AbvGr_5',\n",
      "       'Bedroom AbvGr_6', 'Overall Qual_1', 'Overall Qual_2', 'Overall Qual_3',\n",
      "       'Overall Qual_4', 'Overall Qual_5', 'Overall Qual_6', 'Overall Qual_7',\n",
      "       'Overall Qual_8', 'Overall Qual_9', 'Overall Qual_10',\n",
      "       'Garage Cars_0.0', 'Garage Cars_1.0', 'Garage Cars_2.0',\n",
      "       'Garage Cars_3.0', 'Garage Cars_4.0', 'Garage Cars_5.0',\n",
      "       'Bsmt Full Bath_0.0', 'Bsmt Full Bath_1.0', 'Bsmt Full Bath_2.0',\n",
      "       'Bsmt Full Bath_3.0', 'Fireplaces_0', 'Fireplaces_1', 'Fireplaces_2',\n",
      "       'Fireplaces_3', 'MS SubClass_20', 'MS SubClass_30', 'MS SubClass_40',\n",
      "       'MS SubClass_45', 'MS SubClass_50', 'MS SubClass_60', 'MS SubClass_70',\n",
      "       'MS SubClass_75', 'MS SubClass_80', 'MS SubClass_85', 'MS SubClass_90',\n",
      "       'MS SubClass_120', 'MS SubClass_160', 'MS SubClass_180',\n",
      "       'MS SubClass_190', 'Bsmt Half Bath_0.0', 'Bsmt Half Bath_1.0',\n",
      "       'Half Bath_0', 'Half Bath_1', 'Half Bath_2'],\n",
      "      dtype='object')\n"
     ]
    }
   ],
   "source": [
    "num_clean = num_train\n",
    "num_cat = ['Full Bath', 'Bedroom AbvGr', 'Overall Qual', 'Garage Cars', 'Bsmt Full Bath',\n",
    "          'Fireplaces', 'MS SubClass', 'Bsmt Half Bath', 'Half Bath']\n",
    "\n",
    "\n",
    "num_useless = ['PID', 'Mo Sold', 'Order']\n",
    "\n",
    "for col in num_cat:\n",
    "    num_clean[col] = num_clean[col].astype('category')\n",
    "    col_dummies = pd.get_dummies(num_clean[col], prefix=col)\n",
    "    num_clean = pd.concat([num_clean, col_dummies], axis=1)\n",
    "    del num_clean[col]\n",
    "for col in num_useless:\n",
    "    del num_clean[col]\n",
    "\n",
    "num_clean = num_clean.fillna(num_clean.mean())\n",
    "print(num_clean.columns)"
   ]
  },
  {
   "cell_type": "code",
   "execution_count": 32,
   "metadata": {},
   "outputs": [
    {
     "name": "stdout",
     "output_type": "stream",
     "text": [
      "Index(['MS Zoning_C (all)', 'MS Zoning_FV', 'MS Zoning_I (all)',\n",
      "       'MS Zoning_RH', 'MS Zoning_RL', 'MS Zoning_RM', 'Street_Grvl',\n",
      "       'Street_Pave', 'Lot Shape_IR1', 'Lot Shape_IR2',\n",
      "       ...\n",
      "       'Sale Type_ConLI', 'Sale Type_ConLw', 'Sale Type_New', 'Sale Type_Oth',\n",
      "       'Sale Type_WD ', 'Sale Condition_Abnorml', 'Sale Condition_Alloca',\n",
      "       'Sale Condition_Family', 'Sale Condition_Normal',\n",
      "       'Sale Condition_Partial'],\n",
      "      dtype='object', length=235)\n"
     ]
    },
    {
     "name": "stderr",
     "output_type": "stream",
     "text": [
      "/Users/gangwanfang/anaconda/envs/dataquest/lib/python3.6/site-packages/ipykernel_launcher.py:4: SettingWithCopyWarning: \n",
      "A value is trying to be set on a copy of a slice from a DataFrame.\n",
      "Try using .loc[row_indexer,col_indexer] = value instead\n",
      "\n",
      "See the caveats in the documentation: http://pandas.pydata.org/pandas-docs/stable/indexing.html#indexing-view-versus-copy\n",
      "  after removing the cwd from sys.path.\n"
     ]
    }
   ],
   "source": [
    "txt_train = train_subset.select_dtypes(include=['object'])\n",
    "\n",
    "for col in txt_train.columns:\n",
    "    txt_train[col] = txt_train[col].astype('category')\n",
    "    col_dummies = pd.get_dummies(txt_train[col], prefix=col)\n",
    "    txt_train = pd.concat([txt_train, col_dummies], axis=1)\n",
    "    del txt_train[col]\n",
    "print(txt_train.columns)"
   ]
  },
  {
   "cell_type": "code",
   "execution_count": null,
   "metadata": {
    "collapsed": true
   },
   "outputs": [],
   "source": []
  },
  {
   "cell_type": "code",
   "execution_count": 33,
   "metadata": {
    "scrolled": true
   },
   "outputs": [
    {
     "name": "stdout",
     "output_type": "stream",
     "text": [
      "Index(['Overall Cond', 'Mas Vnr Area', 'BsmtFin SF 1', 'Bsmt Unf SF',\n",
      "       'Total Bsmt SF', '1st Flr SF', '2nd Flr SF', 'Gr Liv Area',\n",
      "       'Garage Area', 'Wood Deck SF',\n",
      "       ...\n",
      "       'Sale Type_ConLI', 'Sale Type_ConLw', 'Sale Type_New', 'Sale Type_Oth',\n",
      "       'Sale Type_WD ', 'Sale Condition_Abnorml', 'Sale Condition_Alloca',\n",
      "       'Sale Condition_Family', 'Sale Condition_Normal',\n",
      "       'Sale Condition_Partial'],\n",
      "      dtype='object', length=303)\n"
     ]
    }
   ],
   "source": [
    "train_clean = pd.concat([num_clean, txt_train], axis=1)\n",
    "print(train_clean.columns)"
   ]
  },
  {
   "cell_type": "code",
   "execution_count": 34,
   "metadata": {},
   "outputs": [
    {
     "data": {
      "text/plain": [
       "Overall Cond              0\n",
       "Foundation_PConc          0\n",
       "Foundation_CBlock         0\n",
       "Foundation_BrkTil         0\n",
       "Exter Cond_TA             0\n",
       "Exter Cond_Po             0\n",
       "Exter Cond_Gd             0\n",
       "Exter Cond_Fa             0\n",
       "Exter Cond_Ex             0\n",
       "Exter Qual_TA             0\n",
       "Exter Qual_Gd             0\n",
       "Exter Qual_Fa             0\n",
       "Exter Qual_Ex             0\n",
       "Mas Vnr Type_Stone        0\n",
       "Mas Vnr Type_None         0\n",
       "Mas Vnr Type_BrkFace      0\n",
       "Foundation_Slab           0\n",
       "Mas Vnr Type_BrkCmn       0\n",
       "Foundation_Stone          0\n",
       "Bsmt Qual_Ex              0\n",
       "BsmtFin Type 1_GLQ        0\n",
       "BsmtFin Type 1_BLQ        0\n",
       "BsmtFin Type 1_ALQ        0\n",
       "Bsmt Exposure_No          0\n",
       "Bsmt Exposure_Mn          0\n",
       "Bsmt Exposure_Gd          0\n",
       "Bsmt Exposure_Av          0\n",
       "Bsmt Cond_TA              0\n",
       "Bsmt Cond_Po              0\n",
       "Bsmt Cond_Gd              0\n",
       "Bsmt Cond_Fa              0\n",
       "Bsmt Cond_Ex              0\n",
       "Bsmt Qual_TA              0\n",
       "Bsmt Qual_Gd              0\n",
       "Bsmt Qual_Fa              0\n",
       "Foundation_Wood           0\n",
       "BsmtFin Type 1_LwQ        0\n",
       "Exterior 2nd_Wd Shng      0\n",
       "Exterior 2nd_VinylSd      0\n",
       "Exterior 1st_MetalSd      0\n",
       "Exterior 1st_HdBoard      0\n",
       "Exterior 1st_CemntBd      0\n",
       "Exterior 1st_CBlock       0\n",
       "Exterior 1st_BrkFace      0\n",
       "Exterior 1st_BrkComm      0\n",
       "Exterior 1st_AsphShn      0\n",
       "Exterior 1st_AsbShng      0\n",
       "Roof Matl_WdShngl         0\n",
       "Roof Matl_WdShake         0\n",
       "Roof Matl_Tar&Grv         0\n",
       "Roof Matl_Membran         0\n",
       "Roof Matl_CompShg         0\n",
       "Roof Style_Shed           0\n",
       "Roof Style_Mansard        0\n",
       "Exterior 1st_Plywood      0\n",
       "Exterior 2nd_Wd Sdng      0\n",
       "Exterior 1st_PreCast      0\n",
       "Exterior 1st_VinylSd      0\n",
       "Exterior 2nd_Stucco       0\n",
       "Exterior 2nd_Stone        0\n",
       "Exterior 2nd_PreCast      0\n",
       "Exterior 2nd_Plywood      0\n",
       "Exterior 2nd_MetalSd      0\n",
       "Exterior 2nd_ImStucc      0\n",
       "Exterior 2nd_HdBoard      0\n",
       "Exterior 2nd_CmentBd      0\n",
       "Exterior 2nd_CBlock       0\n",
       "Exterior 2nd_BrkFace      0\n",
       "Exterior 2nd_Brk Cmn      0\n",
       "Exterior 2nd_AsphShn      0\n",
       "Exterior 2nd_AsbShng      0\n",
       "Exterior 1st_WdShing      0\n",
       "Exterior 1st_Wd Sdng      0\n",
       "Exterior 1st_Stucco       0\n",
       "Roof Style_Hip            0\n",
       "BsmtFin Type 1_Rec        0\n",
       "BsmtFin Type 2_ALQ        0\n",
       "Garage Cond_Ex            0\n",
       "Garage Qual_TA            0\n",
       "Garage Qual_Po            0\n",
       "Garage Qual_Gd            0\n",
       "Garage Qual_Fa            0\n",
       "Garage Qual_Ex            0\n",
       "Garage Finish_Unf         0\n",
       "Garage Finish_RFn         0\n",
       "Garage Finish_Fin         0\n",
       "Garage Type_Detchd        0\n",
       "Garage Type_CarPort       0\n",
       "Garage Type_BuiltIn       0\n",
       "Garage Type_Basment       0\n",
       "Garage Type_Attchd        0\n",
       "Garage Type_2Types        0\n",
       "Garage Cond_Fa            0\n",
       "Fireplace Qu_TA           0\n",
       "Garage Cond_Gd            0\n",
       "Garage Cond_TA            0\n",
       "Sale Condition_Family     0\n",
       "Sale Condition_Alloca     0\n",
       "Sale Condition_Abnorml    0\n",
       "Sale Type_WD              0\n",
       "Sale Type_Oth             0\n",
       "Sale Type_New             0\n",
       "Sale Type_ConLw           0\n",
       "Sale Type_ConLI           0\n",
       "Sale Type_ConLD           0\n",
       "Sale Type_Con             0\n",
       "Sale Type_CWD             0\n",
       "Sale Type_COD             0\n",
       "Paved Drive_Y             0\n",
       "Paved Drive_P             0\n",
       "Paved Drive_N             0\n",
       "Garage Cond_Po            0\n",
       "BsmtFin Type 1_Unf        0\n",
       "Fireplace Qu_Po           0\n",
       "Fireplace Qu_Fa           0\n",
       "Heating QC_TA             0\n",
       "Heating QC_Gd             0\n",
       "Heating QC_Fa             0\n",
       "Heating QC_Ex             0\n",
       "Heating_Wall              0\n",
       "Heating_OthW              0\n",
       "Heating_Grav              0\n",
       "Heating_GasW              0\n",
       "Heating_GasA              0\n",
       "Heating_Floor             0\n",
       "BsmtFin Type 2_Unf        0\n",
       "BsmtFin Type 2_Rec        0\n",
       "BsmtFin Type 2_LwQ        0\n",
       "BsmtFin Type 2_GLQ        0\n",
       "BsmtFin Type 2_BLQ        0\n",
       "Central Air_N             0\n",
       "Fireplace Qu_Gd           0\n",
       "Central Air_Y             0\n",
       "Electrical_FuseF          0\n",
       "Fireplace Qu_Ex           0\n",
       "Functional_Typ            0\n",
       "Functional_Sev            0\n",
       "Functional_Mod            0\n",
       "Functional_Min2           0\n",
       "Functional_Min1           0\n",
       "Functional_Maj2           0\n",
       "Functional_Maj1           0\n",
       "Kitchen Qual_TA           0\n",
       "Kitchen Qual_Po           0\n",
       "Kitchen Qual_Gd           0\n",
       "Kitchen Qual_Fa           0\n",
       "Kitchen Qual_Ex           0\n",
       "Electrical_SBrkr          0\n",
       "Electrical_FuseP          0\n",
       "Electrical_FuseA          0\n",
       "Sale Condition_Normal     0\n",
       "Roof Style_Gambrel        0\n",
       "Roof Style_Flat           0\n",
       "MS SubClass_60            0\n",
       "MS SubClass_50            0\n",
       "MS SubClass_45            0\n",
       "MS SubClass_40            0\n",
       "MS SubClass_30            0\n",
       "MS SubClass_20            0\n",
       "Fireplaces_3              0\n",
       "Fireplaces_2              0\n",
       "Fireplaces_1              0\n",
       "Fireplaces_0              0\n",
       "Bsmt Full Bath_3.0        0\n",
       "Bsmt Full Bath_2.0        0\n",
       "Bsmt Full Bath_1.0        0\n",
       "Bsmt Full Bath_0.0        0\n",
       "Garage Cars_5.0           0\n",
       "MS SubClass_70            0\n",
       "Garage Cars_4.0           0\n",
       "MS SubClass_75            0\n",
       "MS SubClass_85            0\n",
       "MS Zoning_RL              0\n",
       "MS Zoning_RH              0\n",
       "MS Zoning_I (all)         0\n",
       "MS Zoning_FV              0\n",
       "MS Zoning_C (all)         0\n",
       "Half Bath_2               0\n",
       "Half Bath_1               0\n",
       "Half Bath_0               0\n",
       "Bsmt Half Bath_1.0        0\n",
       "Bsmt Half Bath_0.0        0\n",
       "MS SubClass_190           0\n",
       "MS SubClass_180           0\n",
       "MS SubClass_160           0\n",
       "MS SubClass_120           0\n",
       "MS SubClass_90            0\n",
       "MS SubClass_80            0\n",
       "MS Zoning_RM              0\n",
       "Garage Cars_3.0           0\n",
       "Garage Cars_1.0           0\n",
       "Full Bath_3               0\n",
       "Full Bath_2               0\n",
       "Full Bath_1               0\n",
       "Full Bath_0               0\n",
       "SalePrice                 0\n",
       "Enclosed Porch            0\n",
       "Wood Deck SF              0\n",
       "Garage Area               0\n",
       "Gr Liv Area               0\n",
       "2nd Flr SF                0\n",
       "1st Flr SF                0\n",
       "Total Bsmt SF             0\n",
       "Bsmt Unf SF               0\n",
       "BsmtFin SF 1              0\n",
       "Mas Vnr Area              0\n",
       "Full Bath_4               0\n",
       "Garage Cars_2.0           0\n",
       "Bedroom AbvGr_0           0\n",
       "Bedroom AbvGr_2           0\n",
       "Garage Cars_0.0           0\n",
       "Overall Qual_10           0\n",
       "Overall Qual_9            0\n",
       "Overall Qual_8            0\n",
       "Overall Qual_7            0\n",
       "Overall Qual_6            0\n",
       "Overall Qual_5            0\n",
       "Overall Qual_4            0\n",
       "Overall Qual_3            0\n",
       "Overall Qual_2            0\n",
       "Overall Qual_1            0\n",
       "Bedroom AbvGr_6           0\n",
       "Bedroom AbvGr_5           0\n",
       "Bedroom AbvGr_4           0\n",
       "Bedroom AbvGr_3           0\n",
       "Bedroom AbvGr_1           0\n",
       "Roof Style_Gable          0\n",
       "Street_Grvl               0\n",
       "Lot Shape_IR1             0\n",
       "Condition 1_RRNn          0\n",
       "Condition 1_RRNe          0\n",
       "Condition 1_RRAn          0\n",
       "Condition 1_RRAe          0\n",
       "Condition 1_PosN          0\n",
       "Condition 1_PosA          0\n",
       "Condition 1_Norm          0\n",
       "Condition 1_Feedr         0\n",
       "Condition 1_Artery        0\n",
       "Neighborhood_Veenker      0\n",
       "Neighborhood_Timber       0\n",
       "Neighborhood_StoneBr      0\n",
       "Neighborhood_Somerst      0\n",
       "Neighborhood_SawyerW      0\n",
       "Neighborhood_Sawyer       0\n",
       "Condition 2_Artery        0\n",
       "Neighborhood_SWISU        0\n",
       "Condition 2_Feedr         0\n",
       "Condition 2_PosA          0\n",
       "House Style_SLvl          0\n",
       "House Style_SFoyer        0\n",
       "House Style_2Story        0\n",
       "House Style_2.5Unf        0\n",
       "House Style_2.5Fin        0\n",
       "House Style_1Story        0\n",
       "House Style_1.5Unf        0\n",
       "House Style_1.5Fin        0\n",
       "Bldg Type_TwnhsE          0\n",
       "Bldg Type_Twnhs           0\n",
       "Bldg Type_Duplex          0\n",
       "Bldg Type_2fmCon          0\n",
       "Bldg Type_1Fam            0\n",
       "Condition 2_RRNn          0\n",
       "Condition 2_PosN          0\n",
       "Condition 2_Norm          0\n",
       "Street_Pave               0\n",
       "Neighborhood_OldTown      0\n",
       "Neighborhood_NoRidge      0\n",
       "Lot Config_Inside         0\n",
       "Lot Config_FR3            0\n",
       "Lot Config_FR2            0\n",
       "Lot Config_CulDSac        0\n",
       "Lot Config_Corner         0\n",
       "Utilities_NoSewr          0\n",
       "Utilities_NoSeWa          0\n",
       "Utilities_AllPub          0\n",
       "Land Contour_Lvl          0\n",
       "Land Contour_Low          0\n",
       "Land Contour_HLS          0\n",
       "Land Contour_Bnk          0\n",
       "Lot Shape_Reg             0\n",
       "Lot Shape_IR3             0\n",
       "Lot Shape_IR2             0\n",
       "Land Slope_Gtl            0\n",
       "Neighborhood_NridgHt      0\n",
       "Land Slope_Mod            0\n",
       "Neighborhood_Blmngtn      0\n",
       "Neighborhood_NWAmes       0\n",
       "Neighborhood_NPkVill      0\n",
       "Neighborhood_NAmes        0\n",
       "Neighborhood_Mitchel      0\n",
       "Neighborhood_MeadowV      0\n",
       "Neighborhood_IDOTRR       0\n",
       "Neighborhood_Greens       0\n",
       "Neighborhood_Gilbert      0\n",
       "Neighborhood_Edwards      0\n",
       "Neighborhood_Crawfor      0\n",
       "Neighborhood_CollgCr      0\n",
       "Neighborhood_ClearCr      0\n",
       "Neighborhood_BrkSide      0\n",
       "Neighborhood_BrDale       0\n",
       "Neighborhood_Blueste      0\n",
       "Land Slope_Sev            0\n",
       "Sale Condition_Partial    0\n",
       "dtype: int64"
      ]
     },
     "execution_count": 34,
     "metadata": {},
     "output_type": "execute_result"
    }
   ],
   "source": [
    "train_clean.isnull().sum().sort_values()"
   ]
  },
  {
   "cell_type": "markdown",
   "metadata": {},
   "source": []
  },
  {
   "cell_type": "markdown",
   "metadata": {},
   "source": []
  },
  {
   "cell_type": "code",
   "execution_count": 35,
   "metadata": {
    "collapsed": true
   },
   "outputs": [],
   "source": [
    "def transform_features():\n",
    "    train = train_clean\n",
    "    return train"
   ]
  },
  {
   "cell_type": "code",
   "execution_count": 36,
   "metadata": {
    "collapsed": true
   },
   "outputs": [],
   "source": [
    "def select_features():\n",
    "    train = transform_features()\n",
    "    return train"
   ]
  },
  {
   "cell_type": "code",
   "execution_count": 37,
   "metadata": {},
   "outputs": [
    {
     "name": "stdout",
     "output_type": "stream",
     "text": [
      "([130.01711360170518, 128.13745725503492, 131.82251321443897, 128.99407414408796, 132.35492438716665], 130.26521652048672)\n"
     ]
    }
   ],
   "source": [
    "def train_and_test():\n",
    "    df = select_features()\n",
    "    train_set = df.drop('SalePrice', axis=1)\n",
    "    target_set = df[['SalePrice']]\n",
    "    \n",
    "    kf = KFold(5, shuffle=True, random_state=1)\n",
    "    model = LinearRegression()\n",
    "    \n",
    "    mses = cross_val_score(model, train_set, target_set,\n",
    "                           scoring='neg_mean_absolute_error', cv=kf)\n",
    "    rmses = [np.sqrt(np.abs(mse)) for mse in mses]\n",
    "    avg_rmse = sum(rmses)/len(rmses)\n",
    "    return rmses, avg_rmse\n",
    "\n",
    "result = train_and_test()\n",
    "print(result)"
   ]
  }
 ],
 "metadata": {
  "kernelspec": {
   "display_name": "Python 3",
   "language": "python",
   "name": "python3"
  },
  "language_info": {
   "codemirror_mode": {
    "name": "ipython",
    "version": 3
   },
   "file_extension": ".py",
   "mimetype": "text/x-python",
   "name": "python",
   "nbconvert_exporter": "python",
   "pygments_lexer": "ipython3",
   "version": "3.6.1"
  }
 },
 "nbformat": 4,
 "nbformat_minor": 2
}
